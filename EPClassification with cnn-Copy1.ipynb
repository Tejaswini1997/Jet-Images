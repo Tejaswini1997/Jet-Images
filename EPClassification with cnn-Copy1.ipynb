{
 "cells": [
  {
   "cell_type": "code",
   "execution_count": 2,
   "id": "f6e0269b-184d-4d0f-aa25-4270e31dacc3",
   "metadata": {},
   "outputs": [],
   "source": [
    "import h5py"
   ]
  },
  {
   "cell_type": "code",
   "execution_count": 3,
   "id": "f0bcbe95-ca1c-48ac-8a86-7b2bbaa7fbed",
   "metadata": {},
   "outputs": [],
   "source": [
    "import numpy as np"
   ]
  },
  {
   "cell_type": "code",
   "execution_count": 6,
   "id": "2d56c21b-09c2-4663-b6d3-ff95ef559d39",
   "metadata": {},
   "outputs": [
    {
     "name": "stderr",
     "output_type": "stream",
     "text": [
      "2023-10-19 16:54:59.976927: I tensorflow/core/util/port.cc:111] oneDNN custom operations are on. You may see slightly different numerical results due to floating-point round-off errors from different computation orders. To turn them off, set the environment variable `TF_ENABLE_ONEDNN_OPTS=0`.\n",
      "2023-10-19 16:54:59.981013: I tensorflow/tsl/cuda/cudart_stub.cc:28] Could not find cuda drivers on your machine, GPU will not be used.\n",
      "2023-10-19 16:55:00.037135: E tensorflow/compiler/xla/stream_executor/cuda/cuda_dnn.cc:9342] Unable to register cuDNN factory: Attempting to register factory for plugin cuDNN when one has already been registered\n",
      "2023-10-19 16:55:00.037204: E tensorflow/compiler/xla/stream_executor/cuda/cuda_fft.cc:609] Unable to register cuFFT factory: Attempting to register factory for plugin cuFFT when one has already been registered\n",
      "2023-10-19 16:55:00.037260: E tensorflow/compiler/xla/stream_executor/cuda/cuda_blas.cc:1518] Unable to register cuBLAS factory: Attempting to register factory for plugin cuBLAS when one has already been registered\n",
      "2023-10-19 16:55:00.047422: I tensorflow/tsl/cuda/cudart_stub.cc:28] Could not find cuda drivers on your machine, GPU will not be used.\n",
      "2023-10-19 16:55:00.048385: I tensorflow/core/platform/cpu_feature_guard.cc:182] This TensorFlow binary is optimized to use available CPU instructions in performance-critical operations.\n",
      "To enable the following instructions: AVX2 AVX512F AVX512_VNNI FMA, in other operations, rebuild TensorFlow with the appropriate compiler flags.\n",
      "2023-10-19 16:55:00.849402: W tensorflow/compiler/tf2tensorrt/utils/py_utils.cc:38] TF-TRT Warning: Could not find TensorRT\n"
     ]
    }
   ],
   "source": [
    "import matplotlib.pyplot as plt\n",
    "import tensorflow as tf"
   ]
  },
  {
   "cell_type": "code",
   "execution_count": 15,
   "id": "2c4c20e2-b59d-4f8f-80c6-d1e61cbe3872",
   "metadata": {},
   "outputs": [],
   "source": [
    "from tensorflow import *\n",
    "from tensorflow.keras.models import Sequential"
   ]
  },
  {
   "cell_type": "code",
   "execution_count": 49,
   "id": "0203b036-20f2-47b5-b561-21159cddc661",
   "metadata": {},
   "outputs": [],
   "source": [
    "from sklearn.metrics import roc_curve, auc\n",
    "from sklearn import datasets, linear_model\n",
    "from sklearn.model_selection import train_test_split\n",
    "from sklearn.datasets import make_classification\n",
    "from sklearn.linear_model import LogisticRegression\n",
    "\n",
    "import numpy as np\n",
    "import pandas as pd\n",
    "import seaborn as sns\n",
    "\n",
    "from sklearn.neighbors import KNeighborsClassifier\n",
    "from sklearn.ensemble import RandomForestClassifier\n",
    "\n",
    "from tensorflow.keras.layers import Conv2D, MaxPooling2D,MaxPool2D, Dense , Dropout,Flatten, Activation"
   ]
  },
  {
   "cell_type": "code",
   "execution_count": 42,
   "id": "f0184409-b11c-4c5c-8fa5-b7c7554dc08b",
   "metadata": {},
   "outputs": [],
   "source": [
    "lr_init = 1.e-3\n",
    "batch_size = 64\n",
    "#epochs =20\n",
    "doGPU = False\n",
    "start =0\n",
    "stop = 16000"
   ]
  },
  {
   "cell_type": "code",
   "execution_count": 25,
   "id": "7df97f15-4712-47ab-b0ad-f53a69efa0e3",
   "metadata": {},
   "outputs": [
    {
     "name": "stderr",
     "output_type": "stream",
     "text": [
      "2023-10-19 17:05:10.325514: E tensorflow/compiler/xla/stream_executor/cuda/cuda_driver.cc:268] failed call to cuInit: CUDA_ERROR_UNKNOWN: unknown error\n",
      "2023-10-19 17:05:10.325559: I tensorflow/compiler/xla/stream_executor/cuda/cuda_diagnostics.cc:168] retrieving CUDA diagnostic information for host: iyer-SS400TA-55\n",
      "2023-10-19 17:05:10.325565: I tensorflow/compiler/xla/stream_executor/cuda/cuda_diagnostics.cc:175] hostname: iyer-SS400TA-55\n",
      "2023-10-19 17:05:10.325760: I tensorflow/compiler/xla/stream_executor/cuda/cuda_diagnostics.cc:199] libcuda reported version is: 535.104.12\n",
      "2023-10-19 17:05:10.325780: I tensorflow/compiler/xla/stream_executor/cuda/cuda_diagnostics.cc:203] kernel reported version is: NOT_FOUND: could not find kernel module information in driver version file contents: \"NVRM version: NVIDIA UNIX Open Kernel Module for x86_64  535.104.12  Release Build  (dvs-builder@U16-I3-A14-4-4)  Wed Sep 20 09:32:00 UTC 2023\n",
      "GCC version:  gcc version 11.4.0 (Ubuntu 11.4.0-1ubuntu1~22.04) \n",
      "\"\n"
     ]
    }
   ],
   "source": [
    "if doGPU:\n",
    "    import tensorflow.compat.v1 as tf\n",
    "    from tensorflow.compat.v1.keras.backend import set_session\n",
    "    config = tf.ConfigProto()\n",
    "    config.gpu_options.allow_growth = True\n",
    "    set_session(tf.Session(config=config))"
   ]
  },
  {
   "cell_type": "code",
   "execution_count": 34,
   "id": "12a9bd79-5026-478f-b599-f0ad63c65cd0",
   "metadata": {},
   "outputs": [],
   "source": [
    "img_rows, img_cols, nb_channels = 32,32,2\n",
    "input_dir = 'data'\n",
    "decays = ['SinglePhotonPt50_IMGCROPS_n249k_RHv1','SingleElectronPt50_IMGCROPS_n249k_RHv1']"
   ]
  },
  {
   "cell_type": "code",
   "execution_count": 35,
   "id": "0353787d-48a4-42f0-aa76-320583f143fd",
   "metadata": {},
   "outputs": [],
   "source": [
    "def load_data(decays, start, stop):\n",
    "    global input_dir\n",
    "    dsets = [h5py.File('%s/%s.hdf5'%(input_dir,decay)) for decay in decays]\n",
    "    X = np.concatenate([dset['/X'][start:stop] for dset in dsets])\n",
    "    y = np.concatenate([dset['/y'][start:stop] for dset in dsets])\n",
    "    assert len(X) == len(y)\n",
    "    return X,y"
   ]
  },
  {
   "cell_type": "code",
   "execution_count": 36,
   "id": "4369f79a-3bd9-4cbf-9984-57972e0ef77c",
   "metadata": {},
   "outputs": [],
   "source": [
    "X,y = load_data(decays,start,stop)\n",
    "X_train, X_test, y_train, y_test = train_test_split(X, y, test_size =0.2, random_state = 24)\n",
    "X_train, X_val, y_train, y_val = train_test_split(X_train, y_train, test_size = 0.1, random_state =2)"
   ]
  },
  {
   "cell_type": "code",
   "execution_count": 41,
   "id": "30a656b7-398c-47f1-b299-7447f2bd636f",
   "metadata": {},
   "outputs": [
    {
     "data": {
      "image/png": "[encoded data removed]",
      "text/plain": [
       "<Figure size 640x480 with 2 Axes>"
      ]
     },
     "metadata": {},
     "output_type": "display_data"
    }
   ],
   "source": [
    "plt.figure(1)\n",
    "plt.subplot(221)\n",
    "plt.imshow(X_train[1,:,:,0])\n",
    "plt.title(\"channel 0: energy \")\n",
    "plt.grid(True)\n",
    "\n",
    "plt.subplot(222)\n",
    "plt.imshow(X_train[1,:,:,1])\n",
    "plt.title(\"channel 1: time\")\n",
    "plt.grid(True)\n",
    "\n",
    "plt.show()"
   ]
  },
  {
   "cell_type": "code",
   "execution_count": 43,
   "id": "ecc5144c-6bfe-49ed-8c1c-5da8ceb56eb2",
   "metadata": {},
   "outputs": [],
   "source": [
    "width, height = 128, 128\n",
    "batch_size = 16\n",
    "epochs = 10"
   ]
  },
  {
   "cell_type": "code",
   "execution_count": 44,
   "id": "f54f3089-544e-49c9-93d4-8633ef7de175",
   "metadata": {},
   "outputs": [],
   "source": [
    "class Maxout(tf.keras.layers.Layer):\n",
    "    def __init__(self, num_units=5):\n",
    "        super(Maxout, self).__init__()\n",
    "        self.num_units = num_units\n",
    "\n",
    "    def build(self, input_shape):\n",
    "        self.fc = tf.keras.layers.Dense(input_shape[-1] * self.num_units)\n",
    "\n",
    "    def call(self, x):\n",
    "        out = self.fc(x)\n",
    "        out = tf.reshape(out, [-1, x.shape[-1], self.num_units])\n",
    "        out = tf.reduce_max(out, axis=2)\n",
    "        return out"
   ]
  },
  {
   "cell_type": "code",
   "execution_count": 45,
   "id": "e3915ab5-b5d8-40c1-a66e-8721161c611f",
   "metadata": {},
   "outputs": [],
   "source": [
    "from keras.layers import Layer\n",
    "import keras.backend as K\n",
    "\n",
    "class LocalResponseNormalization(Layer):\n",
    "    def __init__(self, alpha=1e-4, beta=0.75, k=2, **kwargs):\n",
    "        self.alpha = alpha\n",
    "        self.beta = beta\n",
    "        self.k = k\n",
    "        super(LocalResponseNormalization, self).__init__(**kwargs)\n",
    "\n",
    "    def build(self, input_shape):\n",
    "        super(LocalResponseNormalization, self).build(input_shape)\n",
    "\n",
    "    def call(self, x):\n",
    "        squared = K.square(x)\n",
    "        pooled = K.pool2d(squared, (self.k, self.k), padding=\"same\", pool_mode=\"avg\")\n",
    "        normalized = x / K.pow((self.alpha * pooled + 1.0), self.beta)\n",
    "        return normalized\n",
    "\n",
    "    def compute_output_shape(self, input_shape):\n",
    "        return input_shape"
   ]
  },
  {
   "cell_type": "code",
   "execution_count": 63,
   "id": "bf50790c-6f36-4a24-bbca-109731363f5e",
   "metadata": {},
   "outputs": [],
   "source": [
    "# Define the CNN model\n",
    "model = Sequential()\n",
    "\n",
    "model.add(Conv2D(32, (3, 3), activation='relu', input_shape=(32, 32, 2)))\n",
    "\n",
    "model.add(Conv2D(32, (3, 3), activation='relu'))\n",
    "\n",
    "model.add(MaxPool2D(2, 2))\n",
    "\n",
    "model.add(Conv2D(64, (3, 3), activation='relu'))\n",
    "model.add(MaxPool2D(2, 2))\n",
    "model.add(Conv2D(64, (3, 3), activation='relu'))\n",
    "model.add(Conv2D(128, (3, 3), activation='relu'))\n",
    "#model.add(LocalResponseNormalization()) \n",
    "model.add(MaxPool2D(2, 2))\n",
    "\n",
    "\n",
    "model.add(Flatten())\n",
    "#model.add(Dense(256, activation=Maxout()))\n",
    "#model.add(Dropout(0.2))\n",
    "#model.add(Dense(128, activation=Maxout()))\n",
    "model.add(Dense(64, activation='relu'))\n",
    "#model.add(Dropout(0.2))\n",
    "#model.add(Dense(25, activation='relu'))\n",
    "#model.add(Dropout(0.1))\n",
    "model.add(Dense(1, activation='sigmoid'))\n"
   ]
  },
  {
   "cell_type": "code",
   "execution_count": 64,
   "id": "6bf6bd2e-799e-44b3-bdaa-e7531dd4e790",
   "metadata": {},
   "outputs": [],
   "source": [
    "model.compile(loss = tf.keras.losses.binary_crossentropy, \n",
    "              optimizer = tf.keras.optimizers.Adam(learning_rate = 1.e-3), \n",
    "              metrics =[tf.keras.metrics.BinaryAccuracy(name = 'accuracy')]\n",
    "             )"
   ]
  },
  {
   "cell_type": "code",
   "execution_count": 65,
   "id": "115dc3f6-6aa6-46aa-842f-20af7e1a8bac",
   "metadata": {},
   "outputs": [
    {
     "name": "stdout",
     "output_type": "stream",
     "text": [
      "Epoch 1/10\n",
      "720/720 - 8s - loss: 0.6744 - accuracy: 0.5701 - val_loss: 0.6591 - val_accuracy: 0.6094 - 8s/epoch - 11ms/step\n",
      "Epoch 2/10\n",
      "720/720 - 8s - loss: 0.6544 - accuracy: 0.6162 - val_loss: 0.6565 - val_accuracy: 0.6180 - 8s/epoch - 12ms/step\n",
      "Epoch 3/10\n",
      "720/720 - 8s - loss: 0.6438 - accuracy: 0.6308 - val_loss: 0.6563 - val_accuracy: 0.6059 - 8s/epoch - 12ms/step\n",
      "Epoch 4/10\n",
      "720/720 - 9s - loss: 0.6310 - accuracy: 0.6481 - val_loss: 0.6353 - val_accuracy: 0.6445 - 9s/epoch - 12ms/step\n",
      "Epoch 5/10\n",
      "720/720 - 8s - loss: 0.6152 - accuracy: 0.6688 - val_loss: 0.6231 - val_accuracy: 0.6539 - 8s/epoch - 12ms/step\n",
      "Epoch 6/10\n",
      "720/720 - 8s - loss: 0.6047 - accuracy: 0.6806 - val_loss: 0.6176 - val_accuracy: 0.6613 - 8s/epoch - 12ms/step\n",
      "Epoch 7/10\n",
      "720/720 - 8s - loss: 0.5962 - accuracy: 0.6869 - val_loss: 0.6200 - val_accuracy: 0.6625 - 8s/epoch - 12ms/step\n",
      "Epoch 8/10\n",
      "720/720 - 8s - loss: 0.5884 - accuracy: 0.6974 - val_loss: 0.6171 - val_accuracy: 0.6668 - 8s/epoch - 12ms/step\n",
      "Epoch 9/10\n",
      "720/720 - 8s - loss: 0.5804 - accuracy: 0.7016 - val_loss: 0.6171 - val_accuracy: 0.6668 - 8s/epoch - 12ms/step\n",
      "Epoch 10/10\n",
      "720/720 - 8s - loss: 0.5713 - accuracy: 0.7095 - val_loss: 0.6169 - val_accuracy: 0.6758 - 8s/epoch - 11ms/step\n"
     ]
    },
    {
     "data": {
      "text/plain": [
       "<keras.src.callbacks.History at 0x7f966c292200>"
      ]
     },
     "execution_count": 65,
     "metadata": {},
     "output_type": "execute_result"
    }
   ],
   "source": [
    "model.fit(X_train, y_train, batch_size = 32 , epochs = 10 , validation_data = (X_val , y_val ), verbose =2)"
   ]
  },
  {
   "cell_type": "code",
   "execution_count": 66,
   "id": "f169797c-251e-4cf1-8112-1201036b3acb",
   "metadata": {},
   "outputs": [
    {
     "name": "stdout",
     "output_type": "stream",
     "text": [
      "200/200 [==============================] - 1s 7ms/step\n"
     ]
    },
    {
     "data": {
      "image/png": "[encoded data removed]",
      "text/plain": [
       "<Figure size 1000x600 with 1 Axes>"
      ]
     },
     "metadata": {},
     "output_type": "display_data"
    }
   ],
   "source": [
    "import numpy as np\n",
    "from sklearn.metrics import roc_curve, roc_auc_score\n",
    "import matplotlib.pyplot as plt\n",
    "\n",
    "# Assuming you have a trained Sequential model\n",
    "y_pred = model.predict(X_test)  # Replace 'X_test' with your test data\n",
    "y_pred_proba = y_pred.flatten()  # Flatten the predictions to obtain probabilities\n",
    "\n",
    "# Calculate the ROC curve\n",
    "fpr, tpr, thresholds = roc_curve(y_test, y_pred_proba)  # Replace 'y_true' with your true labels\n",
    "\n",
    "# Calculate the AUC (Area Under the ROC Curve)\n",
    "roc_auc = roc_auc_score(y_test, y_pred_proba)  # Replace 'y_true' with your true labels\n",
    "\n",
    "# Plot the ROC curve\n",
    "plt.figure(figsize=(10, 6))\n",
    "plt.plot(fpr, tpr, color='darkorange', lw=2, label=f'ROC curve (AUC = {roc_auc:.2f})')\n",
    "plt.plot([0, 1], [0, 1], color='navy', lw=2, linestyle='--')\n",
    "plt.xlim([0.0, 1.0])\n",
    "plt.ylim([0.0, 1.05])\n",
    "plt.xlabel('False Positive Rate')\n",
    "plt.ylabel('True Positive Rate')\n",
    "plt.title('Receiver Operating Characteristic (ROC) Curve')\n",
    "plt.legend(loc=\"lower right\")\n",
    "plt.show()\n",
    "\n"
   ]
  },
  {
   "cell_type": "code",
   "execution_count": null,
   "id": "ec0d941b-c2b6-42bc-b9e5-cdeec8d633c1",
   "metadata": {},
   "outputs": [],
   "source": []
  }
 ],
 "metadata": {
  "kernelspec": {
   "display_name": "Python 3 (ipykernel)",
   "language": "python",
   "name": "python3"
  },
  "language_info": {
   "codemirror_mode": {
    "name": "ipython",
    "version": 3
   },
   "file_extension": ".py",
   "mimetype": "text/x-python",
   "name": "python",
   "nbconvert_exporter": "python",
   "pygments_lexer": "ipython3",
   "version": "3.10.12"
  }
 },
 "nbformat": 4,
 "nbformat_minor": 5
}
